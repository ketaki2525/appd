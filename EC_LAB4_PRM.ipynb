{
  "nbformat": 4,
  "nbformat_minor": 0,
  "metadata": {
    "colab": {
      "provenance": []
    },
    "kernelspec": {
      "name": "python3",
      "display_name": "Python 3"
    },
    "language_info": {
      "name": "python"
    }
  },
  "cells": [
    {
      "cell_type": "code",
      "execution_count": null,
      "metadata": {
        "colab": {
          "base_uri": "https://localhost:8080/"
        },
        "id": "p2oQbYOZ41Hn",
        "outputId": "3fd23ab3-e34c-4132-9b99-a8501b69805e"
      },
      "outputs": [
        {
          "output_type": "stream",
          "name": "stdout",
          "text": [
            "Supply Chain Chromosome: [0, 4, 4, 4, 4, 4, 2, 3, 1, 1, 3, 0, 0, 3, 1, 2, 2, 3, 3, 1]\n"
          ]
        }
      ],
      "source": [
        "import random\n",
        "def generate_supply_chain_chromosome(num_suppliers):\n",
        "    return [random.randint(0, num_suppliers - 1) for _ in range(20)]\n",
        "\n",
        "chromosome = generate_supply_chain_chromosome(5)\n",
        "print(\"Supply Chain Chromosome:\", chromosome)\n"
      ]
    },
    {
      "cell_type": "code",
      "source": [
        "import random\n",
        "\n",
        "def generate_supply_chain_chromosome(num_suppliers):\n",
        "    return random.sample(range(num_suppliers), 10)\n",
        "\n",
        "chromosome = generate_supply_chain_chromosome(600)\n",
        "print(\"Supply Chain Chromosome (Permutation):\", chromosome)\n"
      ],
      "metadata": {
        "colab": {
          "base_uri": "https://localhost:8080/"
        },
        "id": "ceR7gmVg6u_c",
        "outputId": "0730607d-d0e4-4faa-eff3-83861baa5542"
      },
      "execution_count": null,
      "outputs": [
        {
          "output_type": "stream",
          "name": "stdout",
          "text": [
            "Supply Chain Chromosome (Permutation): [433, 104, 271, 208, 261, 396, 67, 307, 170, 281]\n"
          ]
        }
      ]
    },
    {
      "cell_type": "code",
      "source": [
        "def generate_student_scores(num_subjects):\n",
        "    return [random.randint(0, 100) for _ in range(num_subjects)]\n",
        "\n",
        "scores_chromosome = generate_student_scores(5)\n",
        "print(\"Student Scores Chromosome:\", scores_chromosome)\n"
      ],
      "metadata": {
        "colab": {
          "base_uri": "https://localhost:8080/"
        },
        "id": "DGH0q6OG8Kb7",
        "outputId": "c9f6c10a-a9d4-40c5-87c5-33fc7b1d07d1"
      },
      "execution_count": null,
      "outputs": [
        {
          "output_type": "stream",
          "name": "stdout",
          "text": [
            "Student Scores Chromosome: [87, 35, 52, 73, 93]\n"
          ]
        }
      ]
    },
    {
      "cell_type": "code",
      "source": [
        "# Generate a chromosome where genes are fractional weights between 0 and 1\n",
        "def generate_knapsack_chromosome(num_items):\n",
        "    return [random.uniform(0, 1) for _ in range(num_items)]\n",
        "\n",
        "knapsack_chromosome = generate_knapsack_chromosome(5)\n",
        "print(\"Knapsack Chromosome:\", knapsack_chromosome)\n"
      ],
      "metadata": {
        "colab": {
          "base_uri": "https://localhost:8080/"
        },
        "id": "ChI2Y2Qo8kbT",
        "outputId": "0f16e3bd-aa0e-4349-bc8b-200488bf318d"
      },
      "execution_count": null,
      "outputs": [
        {
          "output_type": "stream",
          "name": "stdout",
          "text": [
            "Knapsack Chromosome: [0.8430923800126466, 0.8539082429437279, 0.8741724599738016, 0.938793434161205, 0.870412328142304]\n"
          ]
        }
      ]
    },
    {
      "cell_type": "code",
      "source": [
        "import random\n",
        "\n",
        "def generate_knapsack_chromosome():\n",
        "    # Get user input for the number of items\n",
        "    num_items = int(input(\"Enter the number of items for the knapsack: \"))\n",
        "\n",
        "    # Get user input for item weights\n",
        "    weights = []\n",
        "    for i in range(num_items):\n",
        "        weight = float(input(f\"Enter the weight for item {i + 1}: \"))\n",
        "        weights.append(weight)\n",
        "\n",
        "    # Get user input for the knapsack's maximum capacity\n",
        "    max_weight = float(input(\"Enter the maximum weight capacity of the knapsack: \"))\n",
        "\n",
        "    # Generate a chromosome with random fractional values between 0 and 1\n",
        "    chromosome = []\n",
        "    current_weight = 0\n",
        "\n",
        "    for i in range(num_items):\n",
        "        # Calculate the max allowable fraction for the current item\n",
        "        max_fraction = min(1, (max_weight - current_weight) / weights[i]) if weights[i] > 0 else 0\n",
        "        fraction = round(random.uniform(0, max_fraction), 2)\n",
        "        chromosome.append(fraction)\n",
        "        current_weight += fraction * weights[i]\n",
        "\n",
        "    print(f\"Total weight of selected items: {current_weight}/{max_weight}\")\n",
        "    return chromosome\n",
        "\n",
        "# Generate and display the chromosome\n",
        "chromosome = generate_knapsack_chromosome()\n",
        "print(\"Knapsack Chromosome (Fractional Representation):\", chromosome)\n"
      ],
      "metadata": {
        "colab": {
          "base_uri": "https://localhost:8080/"
        },
        "id": "iRbzAe109Z1w",
        "outputId": "6d0869c9-12dc-445b-cab1-ab77dd3550ee"
      },
      "execution_count": null,
      "outputs": [
        {
          "output_type": "stream",
          "name": "stdout",
          "text": [
            "Enter the number of items for the knapsack: 5\n",
            "Enter the weight for item 1: 0.1\n",
            "Enter the weight for item 2: 0.24\n",
            "Enter the weight for item 3: 0.3\n",
            "Enter the weight for item 4: 0.22\n",
            "Enter the weight for item 5: 0.11\n",
            "Enter the maximum weight capacity of the knapsack: 3\n",
            "Total weight of selected items: 0.46809999999999996/3.0\n",
            "Knapsack Chromosome (Fractional Representation): [0.13, 0.26, 0.99, 0.38, 0.11]\n"
          ]
        }
      ]
    },
    {
      "cell_type": "code",
      "source": [
        "# Generate a chromosome where 1 means a task is scheduled, 0 means it isn't\n",
        "def generate_task_schedule(num_tasks):\n",
        "    return [random.choice([0, 1]) for _ in range(num_tasks)]\n",
        "\n",
        "schedule_chromosome = generate_task_schedule(5)\n",
        "print(\"Task Schedule Chromosome:\", schedule_chromosome)\n"
      ],
      "metadata": {
        "colab": {
          "base_uri": "https://localhost:8080/"
        },
        "id": "9X_8s70G-c1q",
        "outputId": "b8f98c5e-9d5e-43a1-938f-b8aa29ca0abf"
      },
      "execution_count": null,
      "outputs": [
        {
          "output_type": "stream",
          "name": "stdout",
          "text": [
            "Task Schedule Chromosome: [1, 0, 0, 0, 0]\n"
          ]
        }
      ]
    },
    {
      "cell_type": "code",
      "source": [
        "def one_point_crossover(parent1, parent2):\n",
        "    crossover_point = random.randint(1, len(parent1) - 1)\n",
        "    child1 = parent1[:crossover_point] + parent2[crossover_point:]\n",
        "    child2 = parent2[:crossover_point] + parent1[crossover_point:]\n",
        "    return child1, child2\n",
        "\n",
        "parent1 = [1, 2, 3, 4, 5]\n",
        "parent2 = [5, 4, 3, 2, 1]\n",
        "child1, child2 = one_point_crossover(parent1, parent2)\n",
        "print(\"Crossover Result:\", child1, child2)\n"
      ],
      "metadata": {
        "colab": {
          "base_uri": "https://localhost:8080/"
        },
        "id": "q27GWmB3-k8k",
        "outputId": "c8b4be8d-94bb-4790-bf15-f248ac335db2"
      },
      "execution_count": null,
      "outputs": [
        {
          "output_type": "stream",
          "name": "stdout",
          "text": [
            "Crossover Result: [1, 2, 3, 2, 1] [5, 4, 3, 4, 5]\n"
          ]
        }
      ]
    },
    {
      "cell_type": "code",
      "source": [
        "def bit_flip_mutation(chromosome):\n",
        "    mutation_point = random.randint(0, len(chromosome) - 1)\n",
        "    chromosome[mutation_point] = 1 - chromosome[mutation_point]\n",
        "    return chromosome\n",
        "\n",
        "binary_chromosome = [0, 1, 0, 1, 1]\n",
        "mutated_chromosome = bit_flip_mutation(binary_chromosome)\n",
        "print(\"Mutated Chromosome:\", mutated_chromosome)\n"
      ],
      "metadata": {
        "colab": {
          "base_uri": "https://localhost:8080/"
        },
        "id": "jXtgDg1c-r9K",
        "outputId": "36dda11e-67e1-47e1-fb3c-4744bdbdff51"
      },
      "execution_count": null,
      "outputs": [
        {
          "output_type": "stream",
          "name": "stdout",
          "text": [
            "Mutated Chromosome: [0, 1, 0, 1, 0]\n"
          ]
        }
      ]
    },
    {
      "cell_type": "code",
      "source": [
        "import random\n",
        "\n",
        "# Generate a binary chromosome for job scheduling\n",
        "def generate_task_schedule(num_tasks):\n",
        "    return [random.choice([0, 1]) for _ in range(num_tasks)]\n",
        "\n",
        "# Single-point crossover operation\n",
        "def single_point_crossover(parent1, parent2):\n",
        "    crossover_point = random.randint(1, len(parent1) - 1)\n",
        "    child1 = parent1[:crossover_point] + parent2[crossover_point:]\n",
        "    child2 = parent2[:crossover_point] + parent1[crossover_point:]\n",
        "    return child1, child2\n",
        "\n",
        "# Bit flip mutation operation\n",
        "def bit_flip_mutation(chromosome):\n",
        "    mutation_point = random.randint(0, len(chromosome) - 1)\n",
        "    chromosome[mutation_point] = 1 - chromosome[mutation_point]\n",
        "    return chromosome\n",
        "\n",
        "# Example execution\n",
        "if __name__ == \"__main__\":\n",
        "    # Generate initial task schedules\n",
        "    num_tasks = int(input(\"Enter the number of tasks: \"))\n",
        "    parent1 = generate_task_schedule(num_tasks)\n",
        "    parent2 = generate_task_schedule(num_tasks)\n",
        "\n",
        "    print(\"Parent 1:\", parent1)\n",
        "    print(\"Parent 2:\", parent2)\n",
        "\n",
        "\n",
        "    child1, child2 = single_point_crossover(parent1, parent2)\n",
        "    print(\"Child 1 after Crossover:\", child1)\n",
        "    print(\"Child 2 after Crossover:\", child2)\n",
        "\n",
        "\n",
        "    mutated_child1 = bit_flip_mutation(child1[:])\n",
        "    print(\"Mutated Child 1:\", mutated_child1)\n"
      ],
      "metadata": {
        "colab": {
          "base_uri": "https://localhost:8080/"
        },
        "id": "twaY0wl1_t8K",
        "outputId": "b1c7e36e-ac45-492d-d123-a796fdb13c21"
      },
      "execution_count": null,
      "outputs": [
        {
          "output_type": "stream",
          "name": "stdout",
          "text": [
            "Enter the number of tasks: 9\n",
            "Parent 1: [1, 1, 1, 1, 1, 0, 0, 1, 1]\n",
            "Parent 2: [1, 0, 1, 0, 1, 0, 0, 1, 0]\n",
            "Child 1 after Crossover: [1, 1, 1, 1, 1, 0, 0, 1, 0]\n",
            "Child 2 after Crossover: [1, 0, 1, 0, 1, 0, 0, 1, 1]\n",
            "Mutated Child 1: [1, 1, 1, 1, 1, 1, 0, 1, 0]\n"
          ]
        }
      ]
    },
    {
      "cell_type": "code",
      "source": [
        "import random\n",
        "\n",
        "def generate_task_schedule(num_tasks):\n",
        "    return [random.choice([0, 1]) for _ in range(num_tasks)]\n",
        "\n",
        "\n",
        "def single_point_crossover(parent1, parent2, crossover_point):\n",
        "    if crossover_point < 1 or crossover_point >= len(parent1):\n",
        "        print(\"Invalid crossover point. It should be between 1 and\", len(parent1) - 1)\n",
        "        return parent1[:], parent2[:]\n",
        "\n",
        "    child1 = parent1[:crossover_point] + parent2[crossover_point:]\n",
        "    child2 = parent2[:crossover_point] + parent1[crossover_point:]\n",
        "    return child1, child2\n",
        "\n",
        "def bit_flip_mutation(chromosome):\n",
        "    mutation_point = random.randint(0, len(chromosome) - 1)\n",
        "    chromosome[mutation_point] = 1 - chromosome[mutation_point]\n",
        "    return chromosome\n",
        "\n",
        "\n",
        "if __name__ == \"__main__\":\n",
        "\n",
        "    num_tasks = int(input(\"Enter the number of tasks: \"))\n",
        "    parent1 = generate_task_schedule(num_tasks)\n",
        "    parent2 = generate_task_schedule(num_tasks)\n",
        "\n",
        "    print(\"Parent 1:\", parent1)\n",
        "    print(\"Parent 2:\", parent2)\n",
        "\n",
        "    crossover_point = int(input(f\"Enter the crossover point (1 to {num_tasks - 1}): \"))\n",
        "\n",
        "    child1, child2 = single_point_crossover(parent1, parent2, crossover_point)\n",
        "    print(\"Child 1 after Crossover:\", child1)\n",
        "    print(\"Child 2 after Crossover:\", child2)\n",
        "\n",
        "    mutated_child1 = bit_flip_mutation(child1[:])\n",
        "    print(\"Mutated Child 1:\", mutated_child1)\n",
        "    mutated_child2 = bit_flip_mutation(child2[:])\n",
        "    print(\"Mutated Child 2:\", mutated_child2)\n"
      ],
      "metadata": {
        "colab": {
          "base_uri": "https://localhost:8080/"
        },
        "id": "tMDZIgPnAKVV",
        "outputId": "da5bc635-7d77-4623-8272-1a94a3b7f815"
      },
      "execution_count": null,
      "outputs": [
        {
          "output_type": "stream",
          "name": "stdout",
          "text": [
            "Enter the number of tasks: 5\n",
            "Parent 1: [1, 0, 1, 0, 1]\n",
            "Parent 2: [0, 0, 0, 1, 0]\n",
            "Enter the crossover point (1 to 4): 2\n",
            "Child 1 after Crossover: [1, 0, 0, 1, 0]\n",
            "Child 2 after Crossover: [0, 0, 1, 0, 1]\n",
            "Mutated Child 1: [0, 0, 0, 1, 0]\n",
            "Mutated Child 2: [1, 0, 1, 0, 1]\n"
          ]
        }
      ]
    },
    {
      "cell_type": "code",
      "source": [
        "import random\n",
        "\n",
        "class Item:\n",
        "    def __init__(self, profit, weight):\n",
        "        self.profit = profit\n",
        "        self.weight = weight\n",
        "\n",
        "    def __str__(self):\n",
        "        return f\"(Profit: {self.profit}, Weight: {self.weight})\"\n",
        "\n",
        "def generate_random_chromosome(num_items):\n",
        "    return [random.choice([0, 1]) for _ in range(num_items)]\n",
        "\n",
        "def knapsack_selection(items, chromosome, max_weight):\n",
        "    total_profit = 0\n",
        "    total_weight = 0\n",
        "    selected_items = []\n",
        "\n",
        "    for i in range(len(chromosome)):\n",
        "        if chromosome[i] == 1:\n",
        "            item = items[i]\n",
        "            if total_weight + item.weight <= max_weight:\n",
        "\n",
        "                selected_items.append(item)\n",
        "                total_profit += item.profit\n",
        "                total_weight += item.weight\n",
        "            else:\n",
        "\n",
        "                remaining_weight = max_weight - total_weight\n",
        "                fraction = remaining_weight / item.weight\n",
        "                selected_items.append(Item(round(item.profit * fraction, 2), round(remaining_weight, 2)))\n",
        "                total_profit += round(item.profit * fraction, 2)\n",
        "                total_weight = max_weight\n",
        "                break\n",
        "\n",
        "    return selected_items, total_profit, total_weight\n",
        "\n",
        "\n",
        "num_items = int(input(\"Enter the number of items: \"))\n",
        "items = []\n",
        "\n",
        "print(\"Enter profit and weight for each item:\")\n",
        "for i in range(num_items):\n",
        "    profit = float(input(f\"Profit for item {i + 1}: \"))\n",
        "    weight = float(input(f\"Weight for item {i + 1}: \"))\n",
        "    items.append(Item(profit, weight))\n",
        "\n",
        "max_weight = float(input(\"Enter the maximum weight capacity of the knapsack: \"))\n",
        "\n",
        "chromosome = generate_random_chromosome(num_items)\n",
        "print(\"\\nGenerated Chromosome:\", chromosome)\n",
        "\n",
        "selected_items, total_profit, total_weight = knapsack_selection(items, chromosome, max_weight)\n",
        "1\n",
        "print(\"\\nSelected Items:\")\n",
        "for item in selected_items:\n",
        "    print(item)\n",
        "print(f\"\\nTotal Profit: {total_profit}\")\n",
        "print(f\"Total Weight: {total_weight}\")"
      ],
      "metadata": {
        "colab": {
          "base_uri": "https://localhost:8080/"
        },
        "id": "3Uv9w2hu8Tbj",
        "outputId": "c35a0662-c49c-48a7-edb9-b23c518e7134"
      },
      "execution_count": null,
      "outputs": [
        {
          "output_type": "stream",
          "name": "stdout",
          "text": [
            "Enter the number of items: 4\n",
            "Enter profit and weight for each item:\n",
            "Profit for item 1: 280\n",
            "Weight for item 1: 40\n",
            "Profit for item 2: 100\n",
            "Weight for item 2: 10\n",
            "Profit for item 3: 120\n",
            "Weight for item 3: 20\n",
            "Profit for item 4: 120\n",
            "Weight for item 4: 24\n",
            "Enter the maximum weight capacity of the knapsack: 60\n",
            "\n",
            "Generated Chromosome: [1, 0, 0, 1]\n",
            "\n",
            "Selected Items:\n",
            "(Profit: 280.0, Weight: 40.0)\n",
            "(Profit: 100.0, Weight: 20.0)\n",
            "\n",
            "Total Profit: 380.0\n",
            "Total Weight: 60.0\n"
          ]
        }
      ]
    }
  ]
}